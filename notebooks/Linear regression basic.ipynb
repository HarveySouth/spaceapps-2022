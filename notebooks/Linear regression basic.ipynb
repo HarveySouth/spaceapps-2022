{
 "cells": [
  {
   "cell_type": "markdown",
   "metadata": {},
   "source": [
    "Tech stages\n",
    "- First version from other team members sees solar wind speed peak, then sends warning, which we get before it hits\n",
    "- Second version to increase warning time by predicting peak in advance\n",
    "\n",
    "Conventional procedure\n",
    "- Get data\n",
    "- Create model, from full data, for 1 threshold speed\n",
    "- Predict (probability or catagorise, over/under threshold speed) from new data point\n",
    "- Evaluate prediction\n",
    "    - Split data via k-fold\n",
    "    - For each split\n",
    "        - Create model from training data\n",
    "        - Predict from test data\n",
    "        - Score (accuracy/precision/recall/F1-score at one probability threshold, or ROC curve area for all)\n",
    "    - Average scores\n",
    "\n",
    "Input DataFrame columns\n",
    "- 'Solar wind speed at rise start' \n",
    "- 'Speed 1 hour after start'\n",
    "- 'Speed at peak'\n",
    "\n",
    "Series comparison error types\n",
    "- Boolean / binary / categorical\n",
    "    - Accuracy\n",
    "    - Precision\n",
    "    - Recall\n",
    "    - F1-score\n",
    "    - Balanced accuracy score \n",
    "        - https://scikit-learn.org/stable/modules/model_evaluation.html#balanced-accuracy-score\n",
    "        - https://en.wikipedia.org/wiki/F-score#Diagnostic_testing\n",
    "- Numerical / regression\n",
    "    - Single values\n",
    "        - Mean error\n",
    "        - MAE\n",
    "        - RMSE\n",
    "    - Values with uncertainties\n",
    "        - Agreement rate / accuracy\n",
    "    - Distributions\n",
    "        - Skill score\n",
    "\n",
    "Tasks\n",
    "- Questions\n",
    "    - What is the equivalent of F1-score for numerical series? Doesn't accuracy lead to same problems as with Boolean? Is it based on over/underestimates instead?\n",
    "- Create and evaluate linear regression based model\n",
    "    - Generate random practice data\n",
    "    - Get actual data\n",
    "    - Practice model\n",
    "        - Create single model, from full data, with single arbitrary threshold speed\n",
    "        - Prediction\n",
    "            - Predict probability of over/under threshold speed, from new data point\n",
    "            - 2 bin speed probability distribution histogram\n",
    "            - Speed mode and bin width\n",
    "        - Evaluate prediction\n",
    "            - Split data via single arbitrary value\n",
    "            - Create model from training data\n",
    "            - Predict from test data\n",
    "            - Prediction vs test target comparison (confusion matrix)\n",
    "            - Score (just boolean accuracy since equivalent to numerical for this case)\n",
    "    - Full model\n",
    "        - Create multiple models, from full data, with different threshold speeds\n",
    "        - Prediction\n",
    "            - Predict probability of over/under threshold speed, with each model, from new data point\n",
    "            - Speed probability distribution histogram\n",
    "            - Speed mode (or mean or median) and bin width (or standard deviation or interquartile range) from distribution\n",
    "        - Evaluate prediction\n",
    "            - Split data via k-fold\n",
    "            - For each split\n",
    "                - Create multiple models, from training data, with different threshold speeds\n",
    "                - Predict speed modes from test data\n",
    "                - Prediction vs test target comparison (scatter)\n",
    "                - Score (RMSE, ignoring bin widths)\n",
    "            - Average scores"
   ]
  },
  {
   "cell_type": "code",
   "execution_count": 62,
   "metadata": {},
   "outputs": [],
   "source": [
    "# Importing modules\n",
    "\n",
    "import matplotlib.pyplot as plt\n",
    "import numpy as np\n",
    "import pandas as pd\n",
    "from sklearn.linear_model import LogisticRegression \n",
    "from sklearn.metrics import confusion_matrix \n",
    "from sklearn.metrics import accuracy_score, precision_score, recall_score, f1_score\n"
   ]
  },
  {
   "cell_type": "code",
   "execution_count": 26,
   "metadata": {},
   "outputs": [
    {
     "name": "stdout",
     "output_type": "stream",
     "text": [
      "   Start         Next  Peak\n",
      "0    800  1351.689442  2413\n",
      "1    800  1320.837809  1580\n"
     ]
    }
   ],
   "source": [
    "# Creating randomised practice data\n",
    "\n",
    "v_0 = 800\n",
    "min_v_2 = 800\n",
    "max_v_2 = 3000\n",
    "pnt_num = 1000\n",
    "\n",
    "prac_data = []\n",
    "for i in range(pnt_num):\n",
    "    v_2 = np.random.randint(low = min_v_2, high = max_v_2)\n",
    "    v_1 = v_0 + np.random.rand() * (v_2 - v_0)\n",
    "    prac_data.append([v_0, v_1, v_2])\n",
    "prac_data = pd.DataFrame(prac_data, columns = ['Start', 'Next', 'Peak'])\n",
    "print(prac_data[:2])\n"
   ]
  },
  {
   "cell_type": "code",
   "execution_count": 40,
   "metadata": {},
   "outputs": [
    {
     "name": "stdout",
     "output_type": "stream",
     "text": [
      "   Start         Next\n",
      "0    800  1351.689442\n",
      "1    800  1320.837809\n",
      "\n",
      " 0    2413\n",
      "1    1580\n",
      "Name: Peak, dtype: int64\n",
      "\n",
      "    Start         Next\n",
      "0    800  1351.689442\n",
      "\n",
      " 0    2413\n",
      "Name: Peak, dtype: int64\n"
     ]
    }
   ],
   "source": [
    "# Creating features/target and single data point\n",
    "\n",
    "prac_X = prac_data[['Start', 'Next']]\n",
    "print(prac_X[:2])\n",
    "prac_y = prac_data['Peak']\n",
    "print('\\n', prac_y[:2])\n",
    "prac_X_dp = prac_data[['Start', 'Next']][0:1]\n",
    "print('\\n', prac_X_dp)\n",
    "prac_y_dp = prac_data['Peak'][0:1]\n",
    "print('\\n', prac_y_dp)"
   ]
  },
  {
   "cell_type": "code",
   "execution_count": 34,
   "metadata": {},
   "outputs": [
    {
     "data": {
      "text/plain": [
       "LogisticRegression()"
      ]
     },
     "execution_count": 34,
     "metadata": {},
     "output_type": "execute_result"
    }
   ],
   "source": [
    "# Creating simple practice model\n",
    " \n",
    "# Creating target with arbitrary threshold speed\n",
    "arb = 2000\n",
    "prac_y_arb = (prac_y > arb)\n",
    "\n",
    "# Creating and fitting model\n",
    "prac_model = LogisticRegression()\n",
    "prac_model.fit(prac_X, prac_y_arb)\n"
   ]
  },
  {
   "cell_type": "code",
   "execution_count": 35,
   "metadata": {},
   "outputs": [
    {
     "data": {
      "text/plain": [
       "array([[0.5268275, 0.4731725]])"
      ]
     },
     "execution_count": 35,
     "metadata": {},
     "output_type": "execute_result"
    }
   ],
   "source": [
    "# Predicting probability of over/under threshold speed, from new data point\n",
    "\n",
    "prac_model.predict_proba(prac_X_dp)"
   ]
  },
  {
   "cell_type": "code",
   "execution_count": 49,
   "metadata": {},
   "outputs": [
    {
     "data": {
      "text/plain": [
       "(0.0, 3110.0)"
      ]
     },
     "execution_count": 49,
     "metadata": {},
     "output_type": "execute_result"
    },
    {
     "data": {
      "image/png": "[encoded data removed]",
      "text/plain": [
       "<Figure size 720x360 with 1 Axes>"
      ]
     },
     "metadata": {
      "needs_background": "light"
     },
     "output_type": "display_data"
    }
   ],
   "source": [
    "# Plotting 2 bin speed probability distribution histogram\n",
    "\n",
    "fig = plt.figure(figsize = (10, 5))\n",
    "\n",
    "v_bounds = [v_0, arb, max_v_2]\n",
    "v_mids = [(arb + v_0)/2, (max_v_2 + arb)/2]\n",
    "v_widths = [(arb - v_0), (max_v_2 - arb)]\n",
    "probs = prac_model.predict_proba(prac_dp)[0]\n",
    "\n",
    "ax1 = fig.add_subplot(1,1,1)\n",
    "ax1.bar(v_mids, probs, width = v_widths)\n",
    "ax1.vlines(prac_y_dp, 0, max(probs), color = 'black')\n",
    "ax1.set_xlabel('Solar wind velocity, v (km s^-1)')\n",
    "ax1.set_ylabel('Predicted probability, P(v)')\n",
    "ax1.set_title('Simple practice linear regression model')\n",
    "ax1.set_xlim(0)"
   ]
  },
  {
   "cell_type": "code",
   "execution_count": 52,
   "metadata": {},
   "outputs": [
    {
     "name": "stdout",
     "output_type": "stream",
     "text": [
      "v = ( 1400.0 ± 600.0 ) km ^-1\n"
     ]
    }
   ],
   "source": [
    "# Calculating speed mode and bin width\n",
    "\n",
    "prac_dp_pred_ind = np.where(probs == max(probs))[0][0]\n",
    "prac_dp_pred = [v_mids[prac_dp_pred_ind], v_widths[prac_dp_pred_ind]/2]\n",
    "print('v = (', prac_dp_pred[0], '\\u00B1', prac_dp_pred[1], ') km ^-1')"
   ]
  },
  {
   "cell_type": "code",
   "execution_count": 53,
   "metadata": {},
   "outputs": [],
   "source": [
    "# Evaluating prediction\n",
    "\n",
    "# Splitting data into training and test via single arbitrary value\n",
    "\n",
    "slice_arb = int(pnt_num/2)\n",
    "prac_X_tr = prac_X[:slice_arb]\n",
    "prac_X_tst = prac_X[slice_arb:]\n",
    "prac_y_arb_tr = prac_y_arb[:slice_arb]\n",
    "prac_y_arb_tst = prac_y_arb[slice_arb:]\n"
   ]
  },
  {
   "cell_type": "code",
   "execution_count": 54,
   "metadata": {},
   "outputs": [
    {
     "data": {
      "text/plain": [
       "LogisticRegression()"
      ]
     },
     "execution_count": 54,
     "metadata": {},
     "output_type": "execute_result"
    }
   ],
   "source": [
    "# Creating and fitting model from training data\n",
    "\n",
    "prac_model_ev = LogisticRegression()\n",
    "prac_model_ev.fit(prac_X_tr, prac_y_arb_tr)"
   ]
  },
  {
   "cell_type": "code",
   "execution_count": 61,
   "metadata": {},
   "outputs": [
    {
     "name": "stdout",
     "output_type": "stream",
     "text": [
      "                 0              1               2\n",
      "0                   Actually over  Actually under\n",
      "1   Predicted over            142              46\n",
      "2  Predicted under             77             235\n"
     ]
    }
   ],
   "source": [
    "# Predicting from test data\n",
    "\n",
    "prac_model_ev_pred = prac_model_ev.predict(prac_X_tst)\n",
    "prac_model_ev_cm = confusion_matrix(prac_y_arb_tst, prac_model_ev_pred)\n",
    "prac_model_ev_cm = [[' '                          , 'Actually over', 'Actually under'],\n",
    "                    ['Predicted over' , prac_model_ev_cm[1][1]  , prac_model_ev_cm[0][1]],\n",
    "                    ['Predicted under', prac_model_ev_cm[1][0]  , prac_model_ev_cm[0][0]]]\n",
    "prac_model_ev_cm = pd.DataFrame(prac_model_ev_cm)\n",
    "print(prac_model_ev_cm)"
   ]
  }
 ],
 "metadata": {
  "kernelspec": {
   "display_name": "Python 3.8.12 64-bit",
   "language": "python",
   "name": "python3"
  },
  "language_info": {
   "codemirror_mode": {
    "name": "ipython",
    "version": 3
   },
   "file_extension": ".py",
   "mimetype": "text/x-python",
   "name": "python",
   "nbconvert_exporter": "python",
   "pygments_lexer": "ipython3",
   "version": "3.8.12"
  },
  "orig_nbformat": 4,
  "vscode": {
   "interpreter": {
    "hash": "11e5d2be1e9f67f8cbfbf29be8dc63a6fc35eebe03fcba24a73b0a8c299bb84f"
   }
  }
 },
 "nbformat": 4,
 "nbformat_minor": 2
}
