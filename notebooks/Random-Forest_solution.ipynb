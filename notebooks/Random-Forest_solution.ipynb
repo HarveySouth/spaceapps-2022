{
 "cells": [
  {
   "cell_type": "code",
   "execution_count": 16,
   "id": "8347800d-fd20-43aa-acd5-534a4b814728",
   "metadata": {},
   "outputs": [],
   "source": [
    "import sklearn\n",
    "import sklearn.ensemble\n",
    "import numpy as np\n",
    "# Builtins\n",
    "import datetime as dt\n",
    "import pathlib as pl\n",
    "import sys\n",
    "\n",
    "# 3rd party modules\n",
    "import h5py\n",
    "import pandas as pd\n",
    "\n",
    "# Local packages\n",
    "# Some of our team are on Windows - resolve \"..\" for them!\n",
    "local_packages_dir = pl.Path(\"../spaceapps-2022/src\").resolve()\n",
    "# print(local_packages_dir)\n",
    "sys.path.append(str(local_packages_dir))\n",
    "import downloaddata as dd\n",
    "import cdflib"
   ]
  },
  {
   "cell_type": "code",
   "execution_count": 51,
   "id": "51be76ea-9cca-4a9d-9b03-50f18f5ef314",
   "metadata": {},
   "outputs": [],
   "source": [
    "forest_model = sklearn.ensemble.RandomForestRegressor(\n",
    "    n_estimators=100,\n",
    "    criterion='squared_error', \n",
    "    max_depth=None, \n",
    "    min_samples_split=2, \n",
    "    min_samples_leaf=1, \n",
    "    min_weight_fraction_leaf=0.0, \n",
    "    max_features=1.0, \n",
    "    max_leaf_nodes=None, \n",
    "    min_impurity_decrease=0.0, \n",
    "    bootstrap=True, \n",
    "    oob_score=False, \n",
    "    n_jobs=None, \n",
    "    random_state=None, \n",
    "    verbose=0, \n",
    "    warm_start=False, \n",
    "    ccp_alpha=0.0, \n",
    "    max_samples=None\n",
    ")"
   ]
  },
  {
   "cell_type": "markdown",
   "id": "89b9eced-de6c-4980-b868-98d74b51736f",
   "metadata": {},
   "source": [
    "## Settings"
   ]
  },
  {
   "cell_type": "code",
   "execution_count": 10,
   "id": "f9daec39-d9c9-42bf-a39e-b47f27ed89de",
   "metadata": {},
   "outputs": [],
   "source": [
    "datafile = pl.Path(\"~/.spacepy/data/omnidata.h5\").expanduser().resolve()"
   ]
  },
  {
   "cell_type": "code",
   "execution_count": 17,
   "id": "aca2fe99-ef94-4c05-8c1e-63703b6035c2",
   "metadata": {
    "tags": [
     "raises-exception"
    ]
   },
   "outputs": [],
   "source": [
    "if not datafile.exists():\n",
    "    dd.download_data()"
   ]
  },
  {
   "cell_type": "code",
   "execution_count": 18,
   "id": "a8743d66-1f95-46fd-b5d3-b20db4c13ed7",
   "metadata": {},
   "outputs": [],
   "source": [
    "# Add some metadata ourselves to some of the keys we may want to read\n",
    "# Keys we're ignoring:\n",
    "# 'ByIMF', 'Bz1', 'Bz2', 'Bz3', 'Bz4', 'Bz5', 'Bz6', 'BzIMF', 'DOY', 'G1', 'G2', 'G3', 'Qbits', 'RDT', 'W1', 'W2', 'W3', 'W4', 'W5', 'W6', 'akp3',\n",
    "keys_to_read = {\n",
    "    \"Dst\": {\n",
    "        \"description\": \"disturbance storm time index\",\n",
    "        \"unit\": \"nT\",\n",
    "        \"url\": \"https://en.wikipedia.org/wiki/Disturbance_storm_time_index\",\n",
    "    },\n",
    "    \"Kp\": {\n",
    "        \"description\": \"planetary K index\",\n",
    "        \"unit\": \"\",\n",
    "        \"url\": \"https://en.wikipedia.org/wiki/K-index#The_Kp-index_and_estimated_Kp-index\",\n",
    "    },\n",
    "    \"Pdyn\": {\n",
    "        \"description\": \"dynamic pressure\",\n",
    "        \"unit\": \"nPa\",\n",
    "        \"url\": \"https://en.wikipedia.org/wiki/Solar_wind#Pressure\",\n",
    "    },\n",
    "    \"UTC\": {\n",
    "        \"description\": \"datetime (UTC)\",\n",
    "        \"unit\": \"\",\n",
    "        \"url\": \"\",\n",
    "    },\n",
    "    \"dens\": {\n",
    "        \"description\": \"solar wind density\",\n",
    "        \"unit\": \"cm-3\",\n",
    "        \"url\": \"https://en.wikipedia.org/wiki/Solar_wind#Velocity_and_density\",\n",
    "    },\n",
    "    \"velo\": {\n",
    "        \"description\": \"solar wind speed\",\n",
    "        \"unit\": \"km/s\",\n",
    "        \"url\": \"https://en.wikipedia.org/wiki/Solar_wind#Velocity_and_density\",\n",
    "    },\n",
    "}"
   ]
  },
  {
   "cell_type": "code",
   "execution_count": 19,
   "id": "170851e5-3460-4dac-b171-ac9951171bc1",
   "metadata": {},
   "outputs": [],
   "source": [
    "# Read our datafile\n",
    "with h5py.File(datafile,\"r\") as fo:\n",
    "    data = {key: fo[key][:] for key in keys_to_read.keys()}\n",
    "\n",
    "# Convert the bytestring dates to strings\n",
    "data[\"UTC\"] = [dt.decode(\"utf8\") for dt in data[\"UTC\"]]\n",
    "\n",
    "# Convert to a dataframe, and change date column to a date index\n",
    "data = pd.DataFrame(data)\n",
    "data.set_index(pd.DatetimeIndex(data['UTC']), inplace=True)\n",
    "data = data.drop(columns=[\"UTC\"])"
   ]
  },
  {
   "cell_type": "code",
   "execution_count": 20,
   "id": "f4a1dc2c-3622-4c96-8ca7-b99e276117bb",
   "metadata": {},
   "outputs": [
    {
     "name": "stdout",
     "output_type": "stream",
     "text": [
      "First and last rows of data:\n",
      "                     Dst    Kp  Pdyn   dens   velo\n",
      "UTC                                               \n",
      "1963-11-27 14:00:00   -3   0.7  1.71  10.50  285.0\n",
      "1963-11-27 15:00:00   -3   0.3  1.95  12.00  285.0\n",
      "1963-11-27 16:00:00   -1   0.3  1.95  12.00  285.0\n",
      "1963-11-27 17:00:00   -1   0.3  1.95  12.00  285.0\n",
      "1963-11-27 18:00:00   -3   1.0  2.30  13.70  290.0\n",
      "...                  ...   ...   ...    ...    ...\n",
      "2022-01-19 19:00:00  -20  99.0  0.00   2.67  513.6\n",
      "2022-01-19 20:00:00  -20  99.0  0.00   2.67  513.6\n",
      "2022-01-19 21:00:00  -17  99.0  0.00   2.67  513.6\n",
      "2022-01-19 22:00:00  -15  99.0  0.00   2.67  513.6\n",
      "2022-01-19 23:00:00  -14  99.0  0.00   2.67  513.6\n",
      "\n",
      "[509722 rows x 5 columns]\n",
      "\n",
      "Summary statistics:\n",
      "             Dst         Kp       Pdyn       dens       velo\n",
      "count  509722.00  509722.00  509722.00  509722.00  509722.00\n",
      "mean      -14.14       2.11       2.36       6.93     436.60\n",
      "std        22.05       1.94       1.71       4.97      98.92\n",
      "min      -589.00       0.00       0.00       0.00     156.00\n",
      "25%       -22.00       1.00       1.39       3.80     364.00\n",
      "50%       -10.00       2.00       2.07       5.90     418.00\n",
      "75%        -1.00       3.00       2.88       8.52     488.00\n",
      "max        81.00      99.00      76.06     137.20    1189.00\n"
     ]
    }
   ],
   "source": [
    "def look_at_data(data):\n",
    "    \"\"\"Get an overview of our data\"\"\"\n",
    "    with pd.option_context('display.precision', 2):\n",
    "        print(f\"First and last rows of data:\\n{data}\\n\")\n",
    "        print(f\"Summary statistics:\\n{data.describe()}\")\n",
    "\n",
    "look_at_data(data)"
   ]
  },
  {
   "cell_type": "code",
   "execution_count": 21,
   "id": "44a1d02d-ee00-41a2-8bc2-0f811975406a",
   "metadata": {},
   "outputs": [
    {
     "name": "stdout",
     "output_type": "stream",
     "text": [
      "First and last rows of data:\n",
      "                     Dst   Kp  Pdyn   dens   velo\n",
      "UTC                                              \n",
      "1995-01-01 00:00:00   -2  1.0  2.87  16.30  315.0\n",
      "1995-01-01 01:00:00    3  1.0  3.28  18.80  315.0\n",
      "1995-01-01 02:00:00    6  1.0  3.46  19.30  320.0\n",
      "1995-01-01 03:00:00    5  0.0  2.90  16.40  317.0\n",
      "1995-01-01 04:00:00    3  0.0  2.51  14.50  313.0\n",
      "...                  ...  ...   ...    ...    ...\n",
      "2022-01-15 19:00:00  -31  4.0  0.00   2.67  513.6\n",
      "2022-01-15 20:00:00  -29  4.0  0.00   2.67  513.6\n",
      "2022-01-15 21:00:00  -35  4.7  0.00   2.67  513.6\n",
      "2022-01-15 22:00:00  -42  4.7  0.00   2.67  513.6\n",
      "2022-01-15 23:00:00  -42  4.7  0.00   2.67  513.6\n",
      "\n",
      "[237048 rows x 5 columns]\n",
      "\n",
      "Summary statistics:\n",
      "             Dst         Kp       Pdyn       dens       velo\n",
      "count  237048.00  237048.00  237048.00  237048.00  237048.00\n",
      "mean      -11.80       1.78       2.00       6.29     426.26\n",
      "std        19.41       1.34       1.62       4.96     100.74\n",
      "min      -422.00       0.00       0.00       0.10     228.00\n",
      "25%       -19.00       0.70       1.13       3.20     351.00\n",
      "50%        -8.00       1.70       1.63       4.90     403.00\n",
      "75%         0.00       2.70       2.37       7.80     479.00\n",
      "max        77.00       9.00      71.04     137.20    1189.00\n"
     ]
    }
   ],
   "source": [
    "# Sanitise our data:\n",
    "# * remove dodgy Kp values at end\n",
    "# * limit to more recent values\n",
    "data = data[data[\"Kp\"]<=9]\n",
    "data = data.loc[\"1995\":]\n",
    "look_at_data(data)"
   ]
  },
  {
   "cell_type": "code",
   "execution_count": 26,
   "id": "f00f0730-3fb9-4fc3-9a9a-4caf815b0d6b",
   "metadata": {},
   "outputs": [
    {
     "data": {
      "text/html": [
       "<div>\n",
       "<style scoped>\n",
       "    .dataframe tbody tr th:only-of-type {\n",
       "        vertical-align: middle;\n",
       "    }\n",
       "\n",
       "    .dataframe tbody tr th {\n",
       "        vertical-align: top;\n",
       "    }\n",
       "\n",
       "    .dataframe thead th {\n",
       "        text-align: right;\n",
       "    }\n",
       "</style>\n",
       "<table border=\"1\" class=\"dataframe\">\n",
       "  <thead>\n",
       "    <tr style=\"text-align: right;\">\n",
       "      <th></th>\n",
       "      <th>Dst</th>\n",
       "      <th>Kp</th>\n",
       "      <th>Pdyn</th>\n",
       "      <th>dens</th>\n",
       "      <th>velo</th>\n",
       "    </tr>\n",
       "    <tr>\n",
       "      <th>UTC</th>\n",
       "      <th></th>\n",
       "      <th></th>\n",
       "      <th></th>\n",
       "      <th></th>\n",
       "      <th></th>\n",
       "    </tr>\n",
       "  </thead>\n",
       "  <tbody>\n",
       "    <tr>\n",
       "      <th>1995-01-01 00:00:00</th>\n",
       "      <td>-2</td>\n",
       "      <td>1.0</td>\n",
       "      <td>2.87</td>\n",
       "      <td>16.299999</td>\n",
       "      <td>315.000000</td>\n",
       "    </tr>\n",
       "    <tr>\n",
       "      <th>1995-01-01 01:00:00</th>\n",
       "      <td>3</td>\n",
       "      <td>1.0</td>\n",
       "      <td>3.28</td>\n",
       "      <td>18.799999</td>\n",
       "      <td>315.000000</td>\n",
       "    </tr>\n",
       "    <tr>\n",
       "      <th>1995-01-01 02:00:00</th>\n",
       "      <td>6</td>\n",
       "      <td>1.0</td>\n",
       "      <td>3.46</td>\n",
       "      <td>19.299999</td>\n",
       "      <td>320.000000</td>\n",
       "    </tr>\n",
       "    <tr>\n",
       "      <th>1995-01-01 03:00:00</th>\n",
       "      <td>5</td>\n",
       "      <td>0.0</td>\n",
       "      <td>2.90</td>\n",
       "      <td>16.400000</td>\n",
       "      <td>317.000000</td>\n",
       "    </tr>\n",
       "    <tr>\n",
       "      <th>1995-01-01 04:00:00</th>\n",
       "      <td>3</td>\n",
       "      <td>0.0</td>\n",
       "      <td>2.51</td>\n",
       "      <td>14.500000</td>\n",
       "      <td>313.000000</td>\n",
       "    </tr>\n",
       "    <tr>\n",
       "      <th>...</th>\n",
       "      <td>...</td>\n",
       "      <td>...</td>\n",
       "      <td>...</td>\n",
       "      <td>...</td>\n",
       "      <td>...</td>\n",
       "    </tr>\n",
       "    <tr>\n",
       "      <th>2022-01-15 19:00:00</th>\n",
       "      <td>-31</td>\n",
       "      <td>4.0</td>\n",
       "      <td>0.00</td>\n",
       "      <td>2.670000</td>\n",
       "      <td>513.599976</td>\n",
       "    </tr>\n",
       "    <tr>\n",
       "      <th>2022-01-15 20:00:00</th>\n",
       "      <td>-29</td>\n",
       "      <td>4.0</td>\n",
       "      <td>0.00</td>\n",
       "      <td>2.670000</td>\n",
       "      <td>513.599976</td>\n",
       "    </tr>\n",
       "    <tr>\n",
       "      <th>2022-01-15 21:00:00</th>\n",
       "      <td>-35</td>\n",
       "      <td>4.7</td>\n",
       "      <td>0.00</td>\n",
       "      <td>2.670000</td>\n",
       "      <td>513.599976</td>\n",
       "    </tr>\n",
       "    <tr>\n",
       "      <th>2022-01-15 22:00:00</th>\n",
       "      <td>-42</td>\n",
       "      <td>4.7</td>\n",
       "      <td>0.00</td>\n",
       "      <td>2.670000</td>\n",
       "      <td>513.599976</td>\n",
       "    </tr>\n",
       "    <tr>\n",
       "      <th>2022-01-15 23:00:00</th>\n",
       "      <td>-42</td>\n",
       "      <td>4.7</td>\n",
       "      <td>0.00</td>\n",
       "      <td>2.670000</td>\n",
       "      <td>513.599976</td>\n",
       "    </tr>\n",
       "  </tbody>\n",
       "</table>\n",
       "<p>237048 rows × 5 columns</p>\n",
       "</div>"
      ],
      "text/plain": [
       "                     Dst   Kp  Pdyn       dens        velo\n",
       "UTC                                                       \n",
       "1995-01-01 00:00:00   -2  1.0  2.87  16.299999  315.000000\n",
       "1995-01-01 01:00:00    3  1.0  3.28  18.799999  315.000000\n",
       "1995-01-01 02:00:00    6  1.0  3.46  19.299999  320.000000\n",
       "1995-01-01 03:00:00    5  0.0  2.90  16.400000  317.000000\n",
       "1995-01-01 04:00:00    3  0.0  2.51  14.500000  313.000000\n",
       "...                  ...  ...   ...        ...         ...\n",
       "2022-01-15 19:00:00  -31  4.0  0.00   2.670000  513.599976\n",
       "2022-01-15 20:00:00  -29  4.0  0.00   2.670000  513.599976\n",
       "2022-01-15 21:00:00  -35  4.7  0.00   2.670000  513.599976\n",
       "2022-01-15 22:00:00  -42  4.7  0.00   2.670000  513.599976\n",
       "2022-01-15 23:00:00  -42  4.7  0.00   2.670000  513.599976\n",
       "\n",
       "[237048 rows x 5 columns]"
      ]
     },
     "execution_count": 26,
     "metadata": {},
     "output_type": "execute_result"
    }
   ],
   "source": [
    "data"
   ]
  },
  {
   "cell_type": "code",
   "execution_count": 47,
   "id": "9b2cf83f-6152-48df-bd9e-140fc8aaac1d",
   "metadata": {},
   "outputs": [
    {
     "data": {
      "text/html": [
       "<div>\n",
       "<style scoped>\n",
       "    .dataframe tbody tr th:only-of-type {\n",
       "        vertical-align: middle;\n",
       "    }\n",
       "\n",
       "    .dataframe tbody tr th {\n",
       "        vertical-align: top;\n",
       "    }\n",
       "\n",
       "    .dataframe thead th {\n",
       "        text-align: right;\n",
       "    }\n",
       "</style>\n",
       "<table border=\"1\" class=\"dataframe\">\n",
       "  <thead>\n",
       "    <tr style=\"text-align: right;\">\n",
       "      <th></th>\n",
       "      <th>velo</th>\n",
       "      <th>velo+1</th>\n",
       "      <th>velo+2</th>\n",
       "    </tr>\n",
       "    <tr>\n",
       "      <th>UTC</th>\n",
       "      <th></th>\n",
       "      <th></th>\n",
       "      <th></th>\n",
       "    </tr>\n",
       "  </thead>\n",
       "  <tbody>\n",
       "    <tr>\n",
       "      <th>1995-01-01 00:00:00</th>\n",
       "      <td>315.000000</td>\n",
       "      <td>315.000000</td>\n",
       "      <td>320.000000</td>\n",
       "    </tr>\n",
       "    <tr>\n",
       "      <th>1995-01-01 01:00:00</th>\n",
       "      <td>315.000000</td>\n",
       "      <td>320.000000</td>\n",
       "      <td>317.000000</td>\n",
       "    </tr>\n",
       "    <tr>\n",
       "      <th>1995-01-01 02:00:00</th>\n",
       "      <td>320.000000</td>\n",
       "      <td>317.000000</td>\n",
       "      <td>313.000000</td>\n",
       "    </tr>\n",
       "    <tr>\n",
       "      <th>1995-01-01 03:00:00</th>\n",
       "      <td>317.000000</td>\n",
       "      <td>313.000000</td>\n",
       "      <td>315.000000</td>\n",
       "    </tr>\n",
       "    <tr>\n",
       "      <th>1995-01-01 04:00:00</th>\n",
       "      <td>313.000000</td>\n",
       "      <td>315.000000</td>\n",
       "      <td>316.000000</td>\n",
       "    </tr>\n",
       "    <tr>\n",
       "      <th>...</th>\n",
       "      <td>...</td>\n",
       "      <td>...</td>\n",
       "      <td>...</td>\n",
       "    </tr>\n",
       "    <tr>\n",
       "      <th>2022-01-15 17:00:00</th>\n",
       "      <td>513.599976</td>\n",
       "      <td>513.599976</td>\n",
       "      <td>513.599976</td>\n",
       "    </tr>\n",
       "    <tr>\n",
       "      <th>2022-01-15 18:00:00</th>\n",
       "      <td>513.599976</td>\n",
       "      <td>513.599976</td>\n",
       "      <td>513.599976</td>\n",
       "    </tr>\n",
       "    <tr>\n",
       "      <th>2022-01-15 19:00:00</th>\n",
       "      <td>513.599976</td>\n",
       "      <td>513.599976</td>\n",
       "      <td>513.599976</td>\n",
       "    </tr>\n",
       "    <tr>\n",
       "      <th>2022-01-15 20:00:00</th>\n",
       "      <td>513.599976</td>\n",
       "      <td>513.599976</td>\n",
       "      <td>513.599976</td>\n",
       "    </tr>\n",
       "    <tr>\n",
       "      <th>2022-01-15 21:00:00</th>\n",
       "      <td>513.599976</td>\n",
       "      <td>513.599976</td>\n",
       "      <td>513.599976</td>\n",
       "    </tr>\n",
       "  </tbody>\n",
       "</table>\n",
       "<p>237046 rows × 3 columns</p>\n",
       "</div>"
      ],
      "text/plain": [
       "                           velo      velo+1      velo+2\n",
       "UTC                                                    \n",
       "1995-01-01 00:00:00  315.000000  315.000000  320.000000\n",
       "1995-01-01 01:00:00  315.000000  320.000000  317.000000\n",
       "1995-01-01 02:00:00  320.000000  317.000000  313.000000\n",
       "1995-01-01 03:00:00  317.000000  313.000000  315.000000\n",
       "1995-01-01 04:00:00  313.000000  315.000000  316.000000\n",
       "...                         ...         ...         ...\n",
       "2022-01-15 17:00:00  513.599976  513.599976  513.599976\n",
       "2022-01-15 18:00:00  513.599976  513.599976  513.599976\n",
       "2022-01-15 19:00:00  513.599976  513.599976  513.599976\n",
       "2022-01-15 20:00:00  513.599976  513.599976  513.599976\n",
       "2022-01-15 21:00:00  513.599976  513.599976  513.599976\n",
       "\n",
       "[237046 rows x 3 columns]"
      ]
     },
     "execution_count": 47,
     "metadata": {},
     "output_type": "execute_result"
    }
   ],
   "source": [
    "import datetime\n",
    "data_velo_and_time = data[['velo']]\n",
    "data_velo_and_time = data_velo_and_time.iloc[:-2]\n",
    "\n",
    "velo_plus_one = data[['velo']].iloc[1:-1]\n",
    "velo_plus_one.index = velo_plus_one.index - pd.Timedelta(1, unit='h')\n",
    "data_velo_and_time['velo+1'] = velo_plus_one\n",
    "\n",
    "velo_plus_two = data[['velo']].iloc[2:]\n",
    "velo_plus_two.index = velo_plus_two.index - pd.Timedelta(2, unit='h')\n",
    "data_velo_and_time['velo+2'] = velo_plus_two\n",
    "\n",
    "data_velo_and_time\n"
   ]
  },
  {
   "cell_type": "code",
   "execution_count": 54,
   "id": "a0cbdbcb-4d4e-4f2d-9eb6-bb1e65cb2f86",
   "metadata": {},
   "outputs": [
    {
     "data": {
      "text/plain": [
       "UTC\n",
       "1999-03-07 11:00:00    488.0\n",
       "2017-12-18 03:00:00    597.0\n",
       "2013-12-14 00:00:00    301.0\n",
       "2021-08-04 06:00:00    342.0\n",
       "2004-09-03 18:00:00    359.0\n",
       "                       ...  \n",
       "2018-04-12 03:00:00    500.0\n",
       "2016-06-01 15:00:00    432.0\n",
       "2014-07-28 07:00:00    391.0\n",
       "1997-01-07 11:00:00    403.0\n",
       "2021-05-23 21:00:00    388.0\n",
       "Name: velo, Length: 189636, dtype: float32"
      ]
     },
     "execution_count": 54,
     "metadata": {},
     "output_type": "execute_result"
    }
   ],
   "source": [
    "from sklearn.model_selection import train_test_split\n",
    "\n",
    "train, test = train_test_split(data_velo_and_time, test_size=0.2)\n",
    "# train['velo']"
   ]
  },
  {
   "cell_type": "code",
   "execution_count": 55,
   "id": "7a8f2b83-17e3-4aa4-8292-b73b736c1993",
   "metadata": {},
   "outputs": [
    {
     "data": {
      "text/html": [
       "<style>#sk-container-id-1 {color: black;background-color: white;}#sk-container-id-1 pre{padding: 0;}#sk-container-id-1 div.sk-toggleable {background-color: white;}#sk-container-id-1 label.sk-toggleable__label {cursor: pointer;display: block;width: 100%;margin-bottom: 0;padding: 0.3em;box-sizing: border-box;text-align: center;}#sk-container-id-1 label.sk-toggleable__label-arrow:before {content: \"▸\";float: left;margin-right: 0.25em;color: #696969;}#sk-container-id-1 label.sk-toggleable__label-arrow:hover:before {color: black;}#sk-container-id-1 div.sk-estimator:hover label.sk-toggleable__label-arrow:before {color: black;}#sk-container-id-1 div.sk-toggleable__content {max-height: 0;max-width: 0;overflow: hidden;text-align: left;background-color: #f0f8ff;}#sk-container-id-1 div.sk-toggleable__content pre {margin: 0.2em;color: black;border-radius: 0.25em;background-color: #f0f8ff;}#sk-container-id-1 input.sk-toggleable__control:checked~div.sk-toggleable__content {max-height: 200px;max-width: 100%;overflow: auto;}#sk-container-id-1 input.sk-toggleable__control:checked~label.sk-toggleable__label-arrow:before {content: \"▾\";}#sk-container-id-1 div.sk-estimator input.sk-toggleable__control:checked~label.sk-toggleable__label {background-color: #d4ebff;}#sk-container-id-1 div.sk-label input.sk-toggleable__control:checked~label.sk-toggleable__label {background-color: #d4ebff;}#sk-container-id-1 input.sk-hidden--visually {border: 0;clip: rect(1px 1px 1px 1px);clip: rect(1px, 1px, 1px, 1px);height: 1px;margin: -1px;overflow: hidden;padding: 0;position: absolute;width: 1px;}#sk-container-id-1 div.sk-estimator {font-family: monospace;background-color: #f0f8ff;border: 1px dotted black;border-radius: 0.25em;box-sizing: border-box;margin-bottom: 0.5em;}#sk-container-id-1 div.sk-estimator:hover {background-color: #d4ebff;}#sk-container-id-1 div.sk-parallel-item::after {content: \"\";width: 100%;border-bottom: 1px solid gray;flex-grow: 1;}#sk-container-id-1 div.sk-label:hover label.sk-toggleable__label {background-color: #d4ebff;}#sk-container-id-1 div.sk-serial::before {content: \"\";position: absolute;border-left: 1px solid gray;box-sizing: border-box;top: 0;bottom: 0;left: 50%;z-index: 0;}#sk-container-id-1 div.sk-serial {display: flex;flex-direction: column;align-items: center;background-color: white;padding-right: 0.2em;padding-left: 0.2em;position: relative;}#sk-container-id-1 div.sk-item {position: relative;z-index: 1;}#sk-container-id-1 div.sk-parallel {display: flex;align-items: stretch;justify-content: center;background-color: white;position: relative;}#sk-container-id-1 div.sk-item::before, #sk-container-id-1 div.sk-parallel-item::before {content: \"\";position: absolute;border-left: 1px solid gray;box-sizing: border-box;top: 0;bottom: 0;left: 50%;z-index: -1;}#sk-container-id-1 div.sk-parallel-item {display: flex;flex-direction: column;z-index: 1;position: relative;background-color: white;}#sk-container-id-1 div.sk-parallel-item:first-child::after {align-self: flex-end;width: 50%;}#sk-container-id-1 div.sk-parallel-item:last-child::after {align-self: flex-start;width: 50%;}#sk-container-id-1 div.sk-parallel-item:only-child::after {width: 0;}#sk-container-id-1 div.sk-dashed-wrapped {border: 1px dashed gray;margin: 0 0.4em 0.5em 0.4em;box-sizing: border-box;padding-bottom: 0.4em;background-color: white;}#sk-container-id-1 div.sk-label label {font-family: monospace;font-weight: bold;display: inline-block;line-height: 1.2em;}#sk-container-id-1 div.sk-label-container {text-align: center;}#sk-container-id-1 div.sk-container {/* jupyter's `normalize.less` sets `[hidden] { display: none; }` but bootstrap.min.css set `[hidden] { display: none !important; }` so we also need the `!important` here to be able to override the default hidden behavior on the sphinx rendered scikit-learn.org. See: https://github.com/scikit-learn/scikit-learn/issues/21755 */display: inline-block !important;position: relative;}#sk-container-id-1 div.sk-text-repr-fallback {display: none;}</style><div id=\"sk-container-id-1\" class=\"sk-top-container\"><div class=\"sk-text-repr-fallback\"><pre>RandomForestRegressor()</pre><b>In a Jupyter environment, please rerun this cell to show the HTML representation or trust the notebook. <br />On GitHub, the HTML representation is unable to render, please try loading this page with nbviewer.org.</b></div><div class=\"sk-container\" hidden><div class=\"sk-item\"><div class=\"sk-estimator sk-toggleable\"><input class=\"sk-toggleable__control sk-hidden--visually\" id=\"sk-estimator-id-1\" type=\"checkbox\" checked><label for=\"sk-estimator-id-1\" class=\"sk-toggleable__label sk-toggleable__label-arrow\">RandomForestRegressor</label><div class=\"sk-toggleable__content\"><pre>RandomForestRegressor()</pre></div></div></div></div></div>"
      ],
      "text/plain": [
       "RandomForestRegressor()"
      ]
     },
     "execution_count": 55,
     "metadata": {},
     "output_type": "execute_result"
    }
   ],
   "source": [
    "forest_model.fit(train[['velo', 'velo+1']], train['velo+2'])"
   ]
  },
  {
   "cell_type": "code",
   "execution_count": 56,
   "id": "f414be5d-ad9a-42b1-8220-ab449b33dbef",
   "metadata": {},
   "outputs": [
    {
     "data": {
      "text/plain": [
       "array([341.09555076, 491.04292319, 398.28718962, ..., 719.16      ,\n",
       "       456.17480064, 593.62823665])"
      ]
     },
     "execution_count": 56,
     "metadata": {},
     "output_type": "execute_result"
    }
   ],
   "source": [
    "test_preds = forest_model.predict(test[['velo', 'velo+1']])\n",
    "test_preds"
   ]
  },
  {
   "cell_type": "code",
   "execution_count": 66,
   "id": "646c0fd0-03bf-4adf-b508-0dcb73147259",
   "metadata": {},
   "outputs": [
    {
     "data": {
      "text/plain": [
       "UTC\n",
       "1996-09-04 11:00:00    348.0\n",
       "2005-02-19 11:00:00    481.0\n",
       "2016-04-18 01:00:00    391.0\n",
       "2022-01-03 06:00:00    533.0\n",
       "2000-10-12 12:00:00    338.0\n",
       "                       ...  \n",
       "2018-12-09 04:00:00    552.0\n",
       "2002-03-24 03:00:00    460.0\n",
       "2002-12-27 11:00:00    721.0\n",
       "2005-03-18 22:00:00    463.0\n",
       "2015-04-17 21:00:00    594.0\n",
       "Name: velo+2, Length: 47410, dtype: float32"
      ]
     },
     "execution_count": 66,
     "metadata": {},
     "output_type": "execute_result"
    }
   ],
   "source": [
    "test['velo+2_preds'] = test_preds\n",
    "test['velo+2']\n"
   ]
  },
  {
   "cell_type": "code",
   "execution_count": 75,
   "id": "20749892-fe45-43f9-97e9-c2815e104ad8",
   "metadata": {},
   "outputs": [
    {
     "data": {
      "image/png": "[encoded data removed]",
      "text/plain": [
       "<Figure size 640x480 with 1 Axes>"
      ]
     },
     "metadata": {},
     "output_type": "display_data"
    }
   ],
   "source": [
    "import matplotlib.pyplot as plt\n",
    "plt.figure()\n",
    "plt.scatter(test['velo+2'], test['velo+2_preds'])\n",
    "plt.plot(np.arange(test['velo+2'].min(), test['velo+2'].max()),np.arange(test['velo+2'].min(), test['velo+2'].max()), c='y')\n",
    "plt.show()"
   ]
  },
  {
   "cell_type": "code",
   "execution_count": 77,
   "id": "ee81b3f1-0cc2-40dd-94e3-1be38152abf9",
   "metadata": {},
   "outputs": [
    {
     "data": {
      "image/png": "[encoded data removed]",
      "text/plain": [
       "<Figure size 640x480 with 1 Axes>"
      ]
     },
     "metadata": {},
     "output_type": "display_data"
    }
   ],
   "source": [
    "import matplotlib.pyplot as plt\n",
    "plt.figure()\n",
    "test_reduced = test.iloc[:100]\n",
    "plt.scatter(test_reduced.index, test_reduced['velo+2'])\n",
    "plt.scatter(test_reduced.index, test_reduced['velo+2_preds'])\n",
    "plt.show()"
   ]
  },
  {
   "cell_type": "code",
   "execution_count": null,
   "id": "664a5530-5eda-4f3d-b8db-abebc0114ea4",
   "metadata": {},
   "outputs": [],
   "source": []
  }
 ],
 "metadata": {
  "kernelspec": {
   "display_name": "Python 3 (ipykernel)",
   "language": "python",
   "name": "python3"
  },
  "language_info": {
   "codemirror_mode": {
    "name": "ipython",
    "version": 3
   },
   "file_extension": ".py",
   "mimetype": "text/x-python",
   "name": "python",
   "nbconvert_exporter": "python",
   "pygments_lexer": "ipython3",
   "version": "3.10.6"
  }
 },
 "nbformat": 4,
 "nbformat_minor": 5
}
